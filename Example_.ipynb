{
 "cells": [
  {
   "cell_type": "code",
   "execution_count": 3,
   "id": "8a6c4570-6858-4715-b87c-81c73c355919",
   "metadata": {},
   "outputs": [
    {
     "name": "stdout",
     "output_type": "stream",
     "text": [
      "0    10\n",
      "1    20\n",
      "2    30\n",
      "3    40\n",
      "4    50\n",
      "dtype: int64\n"
     ]
    }
   ],
   "source": [
    "import pandas as pd\n",
    "\n",
    "#Creating a Series from a List\n",
    "series = pd.Series([10,20,30,40,50])\n",
    "print (series)"
   ]
  },
  {
   "cell_type": "code",
   "execution_count": 21,
   "id": "a5907701-589e-48a0-9d9d-4eb44bfc41e7",
   "metadata": {},
   "outputs": [
    {
     "name": "stdout",
     "output_type": "stream",
     "text": [
      "        Name  Age          City\n",
      "0     Alice    25      New York\n",
      "1       Bob    30       Chicago\n",
      "2   Charlie    35   Los Angeles\n"
     ]
    }
   ],
   "source": [
    "data = { \"Name\" : [ ' Alice ' , ' Bob ' , ' Charlie ' ] ,'Age' :[25, 30, 35],' City' :[ 'New York', 'Chicago',' Los Angeles']}\n",
    "\n",
    "\n",
    "df = pd.DataFrame(data)\n",
    "print(df)"
   ]
  },
  {
   "cell_type": "code",
   "execution_count": 22,
   "id": "3fbb41b5-ab68-4a0f-ade1-7f11d31d41b9",
   "metadata": {},
   "outputs": [
    {
     "data": {
      "text/html": [
       "<div>\n",
       "<style scoped>\n",
       "    .dataframe tbody tr th:only-of-type {\n",
       "        vertical-align: middle;\n",
       "    }\n",
       "\n",
       "    .dataframe tbody tr th {\n",
       "        vertical-align: top;\n",
       "    }\n",
       "\n",
       "    .dataframe thead th {\n",
       "        text-align: right;\n",
       "    }\n",
       "</style>\n",
       "<table border=\"1\" class=\"dataframe\">\n",
       "  <thead>\n",
       "    <tr style=\"text-align: right;\">\n",
       "      <th></th>\n",
       "      <th>Name</th>\n",
       "      <th>Age</th>\n",
       "      <th>City</th>\n",
       "    </tr>\n",
       "  </thead>\n",
       "  <tbody>\n",
       "    <tr>\n",
       "      <th>0</th>\n",
       "      <td>Alice</td>\n",
       "      <td>25</td>\n",
       "      <td>New York</td>\n",
       "    </tr>\n",
       "    <tr>\n",
       "      <th>1</th>\n",
       "      <td>Bob</td>\n",
       "      <td>30</td>\n",
       "      <td>Chicago</td>\n",
       "    </tr>\n",
       "    <tr>\n",
       "      <th>2</th>\n",
       "      <td>Charlie</td>\n",
       "      <td>35</td>\n",
       "      <td>Los Angeles</td>\n",
       "    </tr>\n",
       "  </tbody>\n",
       "</table>\n",
       "</div>"
      ],
      "text/plain": [
       "        Name  Age          City\n",
       "0     Alice    25      New York\n",
       "1       Bob    30       Chicago\n",
       "2   Charlie    35   Los Angeles"
      ]
     },
     "execution_count": 22,
     "metadata": {},
     "output_type": "execute_result"
    }
   ],
   "source": [
    "df.head()"
   ]
  },
  {
   "cell_type": "code",
   "execution_count": 23,
   "id": "376532f6-c995-4040-97ae-9002b531ff14",
   "metadata": {},
   "outputs": [
    {
     "name": "stdout",
     "output_type": "stream",
     "text": [
      "<class 'pandas.core.frame.DataFrame'>\n",
      "RangeIndex: 3 entries, 0 to 2\n",
      "Data columns (total 3 columns):\n",
      " #   Column  Non-Null Count  Dtype \n",
      "---  ------  --------------  ----- \n",
      " 0   Name    3 non-null      object\n",
      " 1   Age     3 non-null      int64 \n",
      " 2    City   3 non-null      object\n",
      "dtypes: int64(1), object(2)\n",
      "memory usage: 204.0+ bytes\n"
     ]
    }
   ],
   "source": [
    "df.info()"
   ]
  },
  {
   "cell_type": "code",
   "execution_count": 24,
   "id": "f1578ac3-3fd6-4865-9bca-1fbdb0c2882e",
   "metadata": {},
   "outputs": [
    {
     "data": {
      "text/html": [
       "<div>\n",
       "<style scoped>\n",
       "    .dataframe tbody tr th:only-of-type {\n",
       "        vertical-align: middle;\n",
       "    }\n",
       "\n",
       "    .dataframe tbody tr th {\n",
       "        vertical-align: top;\n",
       "    }\n",
       "\n",
       "    .dataframe thead th {\n",
       "        text-align: right;\n",
       "    }\n",
       "</style>\n",
       "<table border=\"1\" class=\"dataframe\">\n",
       "  <thead>\n",
       "    <tr style=\"text-align: right;\">\n",
       "      <th></th>\n",
       "      <th>Age</th>\n",
       "    </tr>\n",
       "  </thead>\n",
       "  <tbody>\n",
       "    <tr>\n",
       "      <th>count</th>\n",
       "      <td>3.0</td>\n",
       "    </tr>\n",
       "    <tr>\n",
       "      <th>mean</th>\n",
       "      <td>30.0</td>\n",
       "    </tr>\n",
       "    <tr>\n",
       "      <th>std</th>\n",
       "      <td>5.0</td>\n",
       "    </tr>\n",
       "    <tr>\n",
       "      <th>min</th>\n",
       "      <td>25.0</td>\n",
       "    </tr>\n",
       "    <tr>\n",
       "      <th>25%</th>\n",
       "      <td>27.5</td>\n",
       "    </tr>\n",
       "    <tr>\n",
       "      <th>50%</th>\n",
       "      <td>30.0</td>\n",
       "    </tr>\n",
       "    <tr>\n",
       "      <th>75%</th>\n",
       "      <td>32.5</td>\n",
       "    </tr>\n",
       "    <tr>\n",
       "      <th>max</th>\n",
       "      <td>35.0</td>\n",
       "    </tr>\n",
       "  </tbody>\n",
       "</table>\n",
       "</div>"
      ],
      "text/plain": [
       "        Age\n",
       "count   3.0\n",
       "mean   30.0\n",
       "std     5.0\n",
       "min    25.0\n",
       "25%    27.5\n",
       "50%    30.0\n",
       "75%    32.5\n",
       "max    35.0"
      ]
     },
     "execution_count": 24,
     "metadata": {},
     "output_type": "execute_result"
    }
   ],
   "source": [
    "df.describe()"
   ]
  },
  {
   "cell_type": "code",
   "execution_count": 25,
   "id": "0ed6b927-b63c-4322-b4a7-2d3663722c56",
   "metadata": {},
   "outputs": [
    {
     "name": "stdout",
     "output_type": "stream",
     "text": [
      "        Name  Age          City\n",
      "2   Charlie    35   Los Angeles\n"
     ]
    }
   ],
   "source": [
    "filtered_df =df[df['Age'] > 30]\n",
    "print(filtered_df)"
   ]
  },
  {
   "cell_type": "code",
   "execution_count": 26,
   "id": "7a7a1595-856f-4eac-9324-fdd4d1da0564",
   "metadata": {},
   "outputs": [
    {
     "name": "stdout",
     "output_type": "stream",
     "text": [
      "Index(['Name', 'Age', ' City'], dtype='object')\n"
     ]
    }
   ],
   "source": [
    "print(df.columns)\n"
   ]
  },
  {
   "cell_type": "code",
   "execution_count": 34,
   "id": "c3a30c5a-5a82-42f2-a31e-5d1e11684a50",
   "metadata": {},
   "outputs": [
    {
     "name": "stdout",
     "output_type": "stream",
     "text": [
      "      Name      City\n",
      "0   Alice   New York\n",
      "1     Bob    Chicago\n"
     ]
    }
   ],
   "source": [
    "selected_data =df.loc[0:1 , ['Name', 'City']]\n",
    "print(selected_data)\n"
   ]
  },
  {
   "cell_type": "code",
   "execution_count": 35,
   "id": "68c95595-31bc-4bd3-8736-decedbff5858",
   "metadata": {},
   "outputs": [
    {
     "data": {
      "text/html": [
       "<div>\n",
       "<style scoped>\n",
       "    .dataframe tbody tr th:only-of-type {\n",
       "        vertical-align: middle;\n",
       "    }\n",
       "\n",
       "    .dataframe tbody tr th {\n",
       "        vertical-align: top;\n",
       "    }\n",
       "\n",
       "    .dataframe thead th {\n",
       "        text-align: right;\n",
       "    }\n",
       "</style>\n",
       "<table border=\"1\" class=\"dataframe\">\n",
       "  <thead>\n",
       "    <tr style=\"text-align: right;\">\n",
       "      <th></th>\n",
       "      <th>Name</th>\n",
       "      <th>City</th>\n",
       "    </tr>\n",
       "  </thead>\n",
       "  <tbody>\n",
       "    <tr>\n",
       "      <th>0</th>\n",
       "      <td>Alice</td>\n",
       "      <td>New York</td>\n",
       "    </tr>\n",
       "    <tr>\n",
       "      <th>1</th>\n",
       "      <td>Bob</td>\n",
       "      <td>Chicago</td>\n",
       "    </tr>\n",
       "  </tbody>\n",
       "</table>\n",
       "</div>"
      ],
      "text/plain": [
       "      Name      City\n",
       "0   Alice   New York\n",
       "1     Bob    Chicago"
      ]
     },
     "execution_count": 35,
     "metadata": {},
     "output_type": "execute_result"
    }
   ],
   "source": [
    "\n",
    "df.iloc[0:2, [0,2]]"
   ]
  },
  {
   "cell_type": "code",
   "execution_count": 37,
   "id": "00bb30fa-0812-45d6-9ba1-db1586a40ec4",
   "metadata": {},
   "outputs": [
    {
     "data": {
      "text/html": [
       "<div>\n",
       "<style scoped>\n",
       "    .dataframe tbody tr th:only-of-type {\n",
       "        vertical-align: middle;\n",
       "    }\n",
       "\n",
       "    .dataframe tbody tr th {\n",
       "        vertical-align: top;\n",
       "    }\n",
       "\n",
       "    .dataframe thead th {\n",
       "        text-align: right;\n",
       "    }\n",
       "</style>\n",
       "<table border=\"1\" class=\"dataframe\">\n",
       "  <thead>\n",
       "    <tr style=\"text-align: right;\">\n",
       "      <th></th>\n",
       "      <th>Name</th>\n",
       "      <th>Age</th>\n",
       "      <th>City</th>\n",
       "      <th>Salary</th>\n",
       "    </tr>\n",
       "  </thead>\n",
       "  <tbody>\n",
       "    <tr>\n",
       "      <th>0</th>\n",
       "      <td>Alice</td>\n",
       "      <td>25</td>\n",
       "      <td>New York</td>\n",
       "      <td>7000</td>\n",
       "    </tr>\n",
       "    <tr>\n",
       "      <th>1</th>\n",
       "      <td>Bob</td>\n",
       "      <td>30</td>\n",
       "      <td>Chicago</td>\n",
       "      <td>8000</td>\n",
       "    </tr>\n",
       "    <tr>\n",
       "      <th>2</th>\n",
       "      <td>Charlie</td>\n",
       "      <td>35</td>\n",
       "      <td>Los Angeles</td>\n",
       "      <td>9000</td>\n",
       "    </tr>\n",
       "  </tbody>\n",
       "</table>\n",
       "</div>"
      ],
      "text/plain": [
       "        Name  Age          City  Salary\n",
       "0     Alice    25      New York    7000\n",
       "1       Bob    30       Chicago    8000\n",
       "2   Charlie    35   Los Angeles    9000"
      ]
     },
     "execution_count": 37,
     "metadata": {},
     "output_type": "execute_result"
    }
   ],
   "source": [
    "df[\"Salary\"] = [7000, 8000, 9000]\n",
    "df"
   ]
  },
  {
   "cell_type": "code",
   "execution_count": 38,
   "id": "b94b7d0d-efb7-49c6-a268-5624bed7b91d",
   "metadata": {},
   "outputs": [
    {
     "name": "stdout",
     "output_type": "stream",
     "text": [
      "        Name  Age          City  Salary\n",
      "0     Alice    26      New York    7000\n",
      "1       Bob    31       Chicago    8000\n",
      "2   Charlie    36   Los Angeles    9000\n"
     ]
    }
   ],
   "source": [
    "df[\"Age\"] = df[\"Age\"] +1\n",
    "\n",
    "print(df)"
   ]
  },
  {
   "cell_type": "code",
   "execution_count": 40,
   "id": "120af825-0947-41bb-95f3-20628d8d2597",
   "metadata": {},
   "outputs": [
    {
     "name": "stdout",
     "output_type": "stream",
     "text": [
      "        Name  Age  Salary\n",
      "0     Alice    26    7000\n",
      "1       Bob    31    8000\n",
      "2   Charlie    36    9000\n"
     ]
    }
   ],
   "source": [
    "df = df.drop('City' , axis =1)\n",
    "print(df)\n"
   ]
  },
  {
   "cell_type": "code",
   "execution_count": 41,
   "id": "21ff699f-236d-487c-9545-c67e39f7d770",
   "metadata": {},
   "outputs": [
    {
     "name": "stdout",
     "output_type": "stream",
     "text": [
      "       A      B\n",
      "0  False  False\n",
      "1  False   True\n",
      "2   True  False\n"
     ]
    }
   ],
   "source": [
    "df_with_nan = pd.DataFrame({'A' : [1,2,None] , 'B' : [4, None , 6]})\n",
    "print( df_with_nan.isnull() )\n"
   ]
  },
  {
   "cell_type": "code",
   "execution_count": 48,
   "id": "22f40fdd-f74b-4263-91f8-d1ebaa420548",
   "metadata": {},
   "outputs": [
    {
     "name": "stdout",
     "output_type": "stream",
     "text": [
      "     A    B\n",
      "0  1.0  NaN\n",
      "1  2.0  NaN\n",
      "2  NaN  6.0\n"
     ]
    }
   ],
   "source": [
    "import pandas as pd\n",
    "\n",
    "df_with_nan = pd.DataFrame({\n",
    "    'A': [1, 2, None],\n",
    "    'B': [None, None, 6]\n",
    "})\n",
    "\n",
    "print(df_with_nan)\n"
   ]
  },
  {
   "cell_type": "code",
   "execution_count": 50,
   "id": "c79336fa-cd9d-4e78-81f1-dce1dcfefdf6",
   "metadata": {},
   "outputs": [
    {
     "data": {
      "text/html": [
       "<div>\n",
       "<style scoped>\n",
       "    .dataframe tbody tr th:only-of-type {\n",
       "        vertical-align: middle;\n",
       "    }\n",
       "\n",
       "    .dataframe tbody tr th {\n",
       "        vertical-align: top;\n",
       "    }\n",
       "\n",
       "    .dataframe thead th {\n",
       "        text-align: right;\n",
       "    }\n",
       "</style>\n",
       "<table border=\"1\" class=\"dataframe\">\n",
       "  <thead>\n",
       "    <tr style=\"text-align: right;\">\n",
       "      <th></th>\n",
       "      <th>A</th>\n",
       "      <th>B</th>\n",
       "    </tr>\n",
       "  </thead>\n",
       "  <tbody>\n",
       "    <tr>\n",
       "      <th>0</th>\n",
       "      <td>False</td>\n",
       "      <td>True</td>\n",
       "    </tr>\n",
       "    <tr>\n",
       "      <th>1</th>\n",
       "      <td>False</td>\n",
       "      <td>True</td>\n",
       "    </tr>\n",
       "    <tr>\n",
       "      <th>2</th>\n",
       "      <td>True</td>\n",
       "      <td>False</td>\n",
       "    </tr>\n",
       "  </tbody>\n",
       "</table>\n",
       "</div>"
      ],
      "text/plain": [
       "       A      B\n",
       "0  False   True\n",
       "1  False   True\n",
       "2   True  False"
      ]
     },
     "execution_count": 50,
     "metadata": {},
     "output_type": "execute_result"
    }
   ],
   "source": [
    "df_with_nan.isnull()"
   ]
  },
  {
   "cell_type": "code",
   "execution_count": 53,
   "id": "8bb9faf2-3108-4449-b4ff-0e2962e65048",
   "metadata": {},
   "outputs": [
    {
     "data": {
      "text/html": [
       "<div>\n",
       "<style scoped>\n",
       "    .dataframe tbody tr th:only-of-type {\n",
       "        vertical-align: middle;\n",
       "    }\n",
       "\n",
       "    .dataframe tbody tr th {\n",
       "        vertical-align: top;\n",
       "    }\n",
       "\n",
       "    .dataframe thead th {\n",
       "        text-align: right;\n",
       "    }\n",
       "</style>\n",
       "<table border=\"1\" class=\"dataframe\">\n",
       "  <thead>\n",
       "    <tr style=\"text-align: right;\">\n",
       "      <th></th>\n",
       "      <th>A</th>\n",
       "      <th>B</th>\n",
       "    </tr>\n",
       "  </thead>\n",
       "  <tbody>\n",
       "    <tr>\n",
       "      <th>0</th>\n",
       "      <td>False</td>\n",
       "      <td>True</td>\n",
       "    </tr>\n",
       "    <tr>\n",
       "      <th>1</th>\n",
       "      <td>False</td>\n",
       "      <td>True</td>\n",
       "    </tr>\n",
       "    <tr>\n",
       "      <th>2</th>\n",
       "      <td>True</td>\n",
       "      <td>False</td>\n",
       "    </tr>\n",
       "  </tbody>\n",
       "</table>\n",
       "</div>"
      ],
      "text/plain": [
       "       A      B\n",
       "0  False   True\n",
       "1  False   True\n",
       "2   True  False"
      ]
     },
     "execution_count": 53,
     "metadata": {},
     "output_type": "execute_result"
    }
   ],
   "source": [
    "df_with_nan.isna()"
   ]
  },
  {
   "cell_type": "code",
   "execution_count": 54,
   "id": "657cbb30-92e3-4db0-a8c1-b8c6902a784a",
   "metadata": {},
   "outputs": [
    {
     "data": {
      "text/plain": [
       "A    1\n",
       "B    2\n",
       "dtype: int64"
      ]
     },
     "execution_count": 54,
     "metadata": {},
     "output_type": "execute_result"
    }
   ],
   "source": [
    "df_with_nan.isna().sum()"
   ]
  },
  {
   "cell_type": "code",
   "execution_count": 55,
   "id": "e0f4e326-028c-4f43-8be8-98a13e5b7267",
   "metadata": {},
   "outputs": [
    {
     "data": {
      "text/plain": [
       "np.int64(3)"
      ]
     },
     "execution_count": 55,
     "metadata": {},
     "output_type": "execute_result"
    }
   ],
   "source": [
    "df_with_nan.isna().sum().sum()\n"
   ]
  },
  {
   "cell_type": "code",
   "execution_count": 56,
   "id": "a240851d-0736-430f-b6eb-58aa4cad3f2a",
   "metadata": {},
   "outputs": [
    {
     "name": "stdout",
     "output_type": "stream",
     "text": [
      "     A    B\n",
      "0  1.0  0.0\n",
      "1  2.0  0.0\n",
      "2  0.0  6.0\n"
     ]
    }
   ],
   "source": [
    "filled_df = df_with_nan.fillna (0)\n",
    "print(filled_df)"
   ]
  },
  {
   "cell_type": "code",
   "execution_count": 59,
   "id": "f683a346-3073-4e68-8b76-54c2a1bf60bf",
   "metadata": {},
   "outputs": [
    {
     "data": {
      "text/html": [
       "<div>\n",
       "<style scoped>\n",
       "    .dataframe tbody tr th:only-of-type {\n",
       "        vertical-align: middle;\n",
       "    }\n",
       "\n",
       "    .dataframe tbody tr th {\n",
       "        vertical-align: top;\n",
       "    }\n",
       "\n",
       "    .dataframe thead th {\n",
       "        text-align: right;\n",
       "    }\n",
       "</style>\n",
       "<table border=\"1\" class=\"dataframe\">\n",
       "  <thead>\n",
       "    <tr style=\"text-align: right;\">\n",
       "      <th></th>\n",
       "      <th>A</th>\n",
       "      <th>B</th>\n",
       "    </tr>\n",
       "  </thead>\n",
       "  <tbody>\n",
       "    <tr>\n",
       "      <th>0</th>\n",
       "      <td>1.0</td>\n",
       "      <td>NaN</td>\n",
       "    </tr>\n",
       "    <tr>\n",
       "      <th>1</th>\n",
       "      <td>2.0</td>\n",
       "      <td>NaN</td>\n",
       "    </tr>\n",
       "    <tr>\n",
       "      <th>2</th>\n",
       "      <td>1.5</td>\n",
       "      <td>6.0</td>\n",
       "    </tr>\n",
       "  </tbody>\n",
       "</table>\n",
       "</div>"
      ],
      "text/plain": [
       "     A    B\n",
       "0  1.0  NaN\n",
       "1  2.0  NaN\n",
       "2  1.5  6.0"
      ]
     },
     "execution_count": 59,
     "metadata": {},
     "output_type": "execute_result"
    }
   ],
   "source": [
    "df_with_nan['A'] = df_with_nan['A'].fillna(df_with_nan['A'].mean())\n",
    "df_with_nan"
   ]
  },
  {
   "cell_type": "code",
   "execution_count": 60,
   "id": "9704319c-d80a-4253-bf82-5935669e3025",
   "metadata": {},
   "outputs": [
    {
     "data": {
      "text/html": [
       "<div>\n",
       "<style scoped>\n",
       "    .dataframe tbody tr th:only-of-type {\n",
       "        vertical-align: middle;\n",
       "    }\n",
       "\n",
       "    .dataframe tbody tr th {\n",
       "        vertical-align: top;\n",
       "    }\n",
       "\n",
       "    .dataframe thead th {\n",
       "        text-align: right;\n",
       "    }\n",
       "</style>\n",
       "<table border=\"1\" class=\"dataframe\">\n",
       "  <thead>\n",
       "    <tr style=\"text-align: right;\">\n",
       "      <th></th>\n",
       "      <th>A</th>\n",
       "      <th>B</th>\n",
       "    </tr>\n",
       "  </thead>\n",
       "  <tbody>\n",
       "    <tr>\n",
       "      <th>0</th>\n",
       "      <td>1.0</td>\n",
       "      <td>6.0</td>\n",
       "    </tr>\n",
       "    <tr>\n",
       "      <th>1</th>\n",
       "      <td>2.0</td>\n",
       "      <td>6.0</td>\n",
       "    </tr>\n",
       "    <tr>\n",
       "      <th>2</th>\n",
       "      <td>1.5</td>\n",
       "      <td>6.0</td>\n",
       "    </tr>\n",
       "  </tbody>\n",
       "</table>\n",
       "</div>"
      ],
      "text/plain": [
       "     A    B\n",
       "0  1.0  6.0\n",
       "1  2.0  6.0\n",
       "2  1.5  6.0"
      ]
     },
     "execution_count": 60,
     "metadata": {},
     "output_type": "execute_result"
    }
   ],
   "source": [
    "df_with_nan['B'] = df_with_nan['B'].fillna(df_with_nan['B'].mean())\n",
    "df_with_nan"
   ]
  },
  {
   "cell_type": "code",
   "execution_count": 61,
   "id": "eb854387-1bb9-4db6-b256-0c6b41ba7c62",
   "metadata": {},
   "outputs": [
    {
     "name": "stdout",
     "output_type": "stream",
     "text": [
      "     A    B\n",
      "0  1.0  6.0\n",
      "1  2.0  6.0\n",
      "2  1.5  6.0\n"
     ]
    }
   ],
   "source": [
    "cleaned_df = df_with_nan.dropna()\n",
    "print(cleaned_df)"
   ]
  },
  {
   "cell_type": "code",
   "execution_count": 62,
   "id": "f4a9e764-206f-4f1d-a12c-9d26aa6754da",
   "metadata": {},
   "outputs": [
    {
     "name": "stdout",
     "output_type": "stream",
     "text": [
      "        Name  Age  Salary  Double Salary\n",
      "0     Alice    26    7000          14000\n",
      "1       Bob    31    8000          16000\n",
      "2   Charlie    36    9000          18000\n"
     ]
    }
   ],
   "source": [
    "def double_salary(x):\n",
    "    return x * 2\n",
    "\n",
    "df['Double Salary'] = df['Salary'].apply(double_salary)\n",
    "print(df)"
   ]
  },
  {
   "cell_type": "code",
   "execution_count": 67,
   "id": "3c77d7ef-7452-479d-a0fa-cd07c3163257",
   "metadata": {},
   "outputs": [
    {
     "name": "stdout",
     "output_type": "stream",
     "text": [
      "Department\n",
      "HR    47500.0\n",
      "IT    70000.0\n",
      "Name: Salary, dtype: float64\n"
     ]
    }
   ],
   "source": [
    "department_data = {'Department': ['HR','IT', 'HR', 'IT'], 'Salary': [50000, 60000, 45000, 80000]}\n",
    "df = pd.DataFrame(department_data)\n",
    "mean_salary = df.groupby('Department')['Salary'].mean()\n",
    "print(mean_salary)"
   ]
  },
  {
   "cell_type": "code",
   "execution_count": 70,
   "id": "3fad2fdc-0dbd-4197-913a-7900e56bced2",
   "metadata": {},
   "outputs": [
    {
     "data": {
      "text/html": [
       "<div>\n",
       "<style scoped>\n",
       "    .dataframe tbody tr th:only-of-type {\n",
       "        vertical-align: middle;\n",
       "    }\n",
       "\n",
       "    .dataframe tbody tr th {\n",
       "        vertical-align: top;\n",
       "    }\n",
       "\n",
       "    .dataframe thead th {\n",
       "        text-align: right;\n",
       "    }\n",
       "</style>\n",
       "<table border=\"1\" class=\"dataframe\">\n",
       "  <thead>\n",
       "    <tr style=\"text-align: right;\">\n",
       "      <th></th>\n",
       "      <th>ID</th>\n",
       "      <th>Name</th>\n",
       "      <th>Department</th>\n",
       "      <th>Age</th>\n",
       "      <th>Salary</th>\n",
       "      <th>Joining_Date</th>\n",
       "    </tr>\n",
       "  </thead>\n",
       "  <tbody>\n",
       "    <tr>\n",
       "      <th>0</th>\n",
       "      <td>1</td>\n",
       "      <td>John Doe</td>\n",
       "      <td>HR</td>\n",
       "      <td>28</td>\n",
       "      <td>50000</td>\n",
       "      <td>2020-05-21</td>\n",
       "    </tr>\n",
       "    <tr>\n",
       "      <th>1</th>\n",
       "      <td>2</td>\n",
       "      <td>Jane Smith</td>\n",
       "      <td>IT</td>\n",
       "      <td>34</td>\n",
       "      <td>75000</td>\n",
       "      <td>2019-06-12</td>\n",
       "    </tr>\n",
       "    <tr>\n",
       "      <th>2</th>\n",
       "      <td>3</td>\n",
       "      <td>Bob Johnson</td>\n",
       "      <td>Finance</td>\n",
       "      <td>45</td>\n",
       "      <td>85000</td>\n",
       "      <td>2018-07-15</td>\n",
       "    </tr>\n",
       "    <tr>\n",
       "      <th>3</th>\n",
       "      <td>4</td>\n",
       "      <td>Alice White</td>\n",
       "      <td>IT</td>\n",
       "      <td>29</td>\n",
       "      <td>72000</td>\n",
       "      <td>2021-01-04</td>\n",
       "    </tr>\n",
       "    <tr>\n",
       "      <th>4</th>\n",
       "      <td>5</td>\n",
       "      <td>Charlie Brown</td>\n",
       "      <td>Marketing</td>\n",
       "      <td>32</td>\n",
       "      <td>68000</td>\n",
       "      <td>2019-11-30</td>\n",
       "    </tr>\n",
       "  </tbody>\n",
       "</table>\n",
       "</div>"
      ],
      "text/plain": [
       "   ID           Name Department  Age  Salary Joining_Date\n",
       "0   1       John Doe         HR   28   50000   2020-05-21\n",
       "1   2     Jane Smith         IT   34   75000   2019-06-12\n",
       "2   3    Bob Johnson    Finance   45   85000   2018-07-15\n",
       "3   4    Alice White         IT   29   72000   2021-01-04\n",
       "4   5  Charlie Brown  Marketing   32   68000   2019-11-30"
      ]
     },
     "execution_count": 70,
     "metadata": {},
     "output_type": "execute_result"
    }
   ],
   "source": [
    "\n",
    "df_grades= pd.read_csv( \"employees (1).csv\" )\n",
    "\n",
    "df_grades.head()"
   ]
  },
  {
   "cell_type": "code",
   "execution_count": 71,
   "id": "f5f230e4-268b-496c-b169-d9c1e0c67b90",
   "metadata": {},
   "outputs": [
    {
     "data": {
      "text/html": [
       "<div>\n",
       "<style scoped>\n",
       "    .dataframe tbody tr th:only-of-type {\n",
       "        vertical-align: middle;\n",
       "    }\n",
       "\n",
       "    .dataframe tbody tr th {\n",
       "        vertical-align: top;\n",
       "    }\n",
       "\n",
       "    .dataframe thead th {\n",
       "        text-align: right;\n",
       "    }\n",
       "</style>\n",
       "<table border=\"1\" class=\"dataframe\">\n",
       "  <thead>\n",
       "    <tr style=\"text-align: right;\">\n",
       "      <th></th>\n",
       "      <th>ID</th>\n",
       "      <th>Name</th>\n",
       "      <th>Department</th>\n",
       "      <th>Age</th>\n",
       "      <th>Salary</th>\n",
       "      <th>Joining_Date</th>\n",
       "    </tr>\n",
       "  </thead>\n",
       "  <tbody>\n",
       "    <tr>\n",
       "      <th>0</th>\n",
       "      <td>1</td>\n",
       "      <td>John Doe</td>\n",
       "      <td>HR</td>\n",
       "      <td>28</td>\n",
       "      <td>50000</td>\n",
       "      <td>2020-05-21</td>\n",
       "    </tr>\n",
       "    <tr>\n",
       "      <th>1</th>\n",
       "      <td>2</td>\n",
       "      <td>Jane Smith</td>\n",
       "      <td>IT</td>\n",
       "      <td>34</td>\n",
       "      <td>75000</td>\n",
       "      <td>2019-06-12</td>\n",
       "    </tr>\n",
       "    <tr>\n",
       "      <th>2</th>\n",
       "      <td>3</td>\n",
       "      <td>Bob Johnson</td>\n",
       "      <td>Finance</td>\n",
       "      <td>45</td>\n",
       "      <td>85000</td>\n",
       "      <td>2018-07-15</td>\n",
       "    </tr>\n",
       "  </tbody>\n",
       "</table>\n",
       "</div>"
      ],
      "text/plain": [
       "   ID         Name Department  Age  Salary Joining_Date\n",
       "0   1     John Doe         HR   28   50000   2020-05-21\n",
       "1   2   Jane Smith         IT   34   75000   2019-06-12\n",
       "2   3  Bob Johnson    Finance   45   85000   2018-07-15"
      ]
     },
     "execution_count": 71,
     "metadata": {},
     "output_type": "execute_result"
    }
   ],
   "source": [
    "df_grades.head(3)"
   ]
  },
  {
   "cell_type": "code",
   "execution_count": 72,
   "id": "85d9abc8-e9d7-422b-9401-0ea931fc3a12",
   "metadata": {},
   "outputs": [
    {
     "data": {
      "text/plain": [
       "(10, 6)"
      ]
     },
     "execution_count": 72,
     "metadata": {},
     "output_type": "execute_result"
    }
   ],
   "source": [
    "df_grades.shape"
   ]
  },
  {
   "cell_type": "code",
   "execution_count": 73,
   "id": "56c93afc-831c-475c-8508-9cba083c3cdd",
   "metadata": {},
   "outputs": [
    {
     "data": {
      "text/plain": [
       "ID               int64\n",
       "Name            object\n",
       "Department      object\n",
       "Age              int64\n",
       "Salary           int64\n",
       "Joining_Date    object\n",
       "dtype: object"
      ]
     },
     "execution_count": 73,
     "metadata": {},
     "output_type": "execute_result"
    }
   ],
   "source": [
    "df_grades.dtypes"
   ]
  },
  {
   "cell_type": "code",
   "execution_count": 74,
   "id": "c66dbbd4-dcd6-40cd-ace7-a6ebd4f87b56",
   "metadata": {},
   "outputs": [
    {
     "data": {
      "text/plain": [
       "Index(['ID', 'Name', 'Department', 'Age', 'Salary', 'Joining_Date'], dtype='object')"
      ]
     },
     "execution_count": 74,
     "metadata": {},
     "output_type": "execute_result"
    }
   ],
   "source": [
    "df_grades.columns"
   ]
  },
  {
   "cell_type": "code",
   "execution_count": 76,
   "id": "319c934b-b58d-40d7-841f-e3db3811e65b",
   "metadata": {},
   "outputs": [
    {
     "data": {
      "text/plain": [
       "RangeIndex(start=0, stop=10, step=1)"
      ]
     },
     "execution_count": 76,
     "metadata": {},
     "output_type": "execute_result"
    }
   ],
   "source": [
    "df_grades.index"
   ]
  },
  {
   "cell_type": "code",
   "execution_count": 77,
   "id": "2fb2d31f-6854-4de1-8d0b-446fd508121c",
   "metadata": {},
   "outputs": [
    {
     "data": {
      "text/plain": [
       "0         John Doe\n",
       "1       Jane Smith\n",
       "2      Bob Johnson\n",
       "3      Alice White\n",
       "4    Charlie Brown\n",
       "5        Eva Green\n",
       "6       Mike Davis\n",
       "7     Linda Taylor\n",
       "8     James Wilson\n",
       "9      Sarah Adams\n",
       "Name: Name, dtype: object"
      ]
     },
     "execution_count": 77,
     "metadata": {},
     "output_type": "execute_result"
    }
   ],
   "source": [
    "df_grades[\"Name\"]"
   ]
  },
  {
   "cell_type": "code",
   "execution_count": 78,
   "id": "49f90e84-6f6c-431d-b7a3-ac2ad20a3225",
   "metadata": {},
   "outputs": [
    {
     "data": {
      "text/plain": [
       "0         John Doe\n",
       "1       Jane Smith\n",
       "2      Bob Johnson\n",
       "3      Alice White\n",
       "4    Charlie Brown\n",
       "5        Eva Green\n",
       "6       Mike Davis\n",
       "7     Linda Taylor\n",
       "8     James Wilson\n",
       "9      Sarah Adams\n",
       "Name: Name, dtype: object"
      ]
     },
     "execution_count": 78,
     "metadata": {},
     "output_type": "execute_result"
    }
   ],
   "source": [
    "df_grades.Name"
   ]
  },
  {
   "cell_type": "code",
   "execution_count": 80,
   "id": "8567d730-dc08-477a-81b9-905ec13789db",
   "metadata": {},
   "outputs": [
    {
     "data": {
      "text/html": [
       "<div>\n",
       "<style scoped>\n",
       "    .dataframe tbody tr th:only-of-type {\n",
       "        vertical-align: middle;\n",
       "    }\n",
       "\n",
       "    .dataframe tbody tr th {\n",
       "        vertical-align: top;\n",
       "    }\n",
       "\n",
       "    .dataframe thead th {\n",
       "        text-align: right;\n",
       "    }\n",
       "</style>\n",
       "<table border=\"1\" class=\"dataframe\">\n",
       "  <thead>\n",
       "    <tr style=\"text-align: right;\">\n",
       "      <th></th>\n",
       "      <th>Name</th>\n",
       "      <th>Salary</th>\n",
       "    </tr>\n",
       "  </thead>\n",
       "  <tbody>\n",
       "    <tr>\n",
       "      <th>0</th>\n",
       "      <td>John Doe</td>\n",
       "      <td>50000</td>\n",
       "    </tr>\n",
       "    <tr>\n",
       "      <th>1</th>\n",
       "      <td>Jane Smith</td>\n",
       "      <td>75000</td>\n",
       "    </tr>\n",
       "    <tr>\n",
       "      <th>2</th>\n",
       "      <td>Bob Johnson</td>\n",
       "      <td>85000</td>\n",
       "    </tr>\n",
       "    <tr>\n",
       "      <th>3</th>\n",
       "      <td>Alice White</td>\n",
       "      <td>72000</td>\n",
       "    </tr>\n",
       "    <tr>\n",
       "      <th>4</th>\n",
       "      <td>Charlie Brown</td>\n",
       "      <td>68000</td>\n",
       "    </tr>\n",
       "    <tr>\n",
       "      <th>5</th>\n",
       "      <td>Eva Green</td>\n",
       "      <td>54000</td>\n",
       "    </tr>\n",
       "    <tr>\n",
       "      <th>6</th>\n",
       "      <td>Mike Davis</td>\n",
       "      <td>90000</td>\n",
       "    </tr>\n",
       "    <tr>\n",
       "      <th>7</th>\n",
       "      <td>Linda Taylor</td>\n",
       "      <td>64000</td>\n",
       "    </tr>\n",
       "    <tr>\n",
       "      <th>8</th>\n",
       "      <td>James Wilson</td>\n",
       "      <td>70000</td>\n",
       "    </tr>\n",
       "    <tr>\n",
       "      <th>9</th>\n",
       "      <td>Sarah Adams</td>\n",
       "      <td>55000</td>\n",
       "    </tr>\n",
       "  </tbody>\n",
       "</table>\n",
       "</div>"
      ],
      "text/plain": [
       "            Name  Salary\n",
       "0       John Doe   50000\n",
       "1     Jane Smith   75000\n",
       "2    Bob Johnson   85000\n",
       "3    Alice White   72000\n",
       "4  Charlie Brown   68000\n",
       "5      Eva Green   54000\n",
       "6     Mike Davis   90000\n",
       "7   Linda Taylor   64000\n",
       "8   James Wilson   70000\n",
       "9    Sarah Adams   55000"
      ]
     },
     "execution_count": 80,
     "metadata": {},
     "output_type": "execute_result"
    }
   ],
   "source": [
    "df_grades[[\"Name\" , \"Salary\"]]"
   ]
  },
  {
   "cell_type": "code",
   "execution_count": 82,
   "id": "0338701d-13db-4b37-a722-f7d5cc8e79c1",
   "metadata": {},
   "outputs": [
    {
     "data": {
      "text/plain": [
       "'John Doe'"
      ]
     },
     "execution_count": 82,
     "metadata": {},
     "output_type": "execute_result"
    }
   ],
   "source": [
    "df_grades.Name[0]"
   ]
  },
  {
   "cell_type": "code",
   "execution_count": 83,
   "id": "11a0acaf-e4e6-4342-aba8-c0cb056d3fc7",
   "metadata": {},
   "outputs": [
    {
     "data": {
      "text/plain": [
       "1     Jane Smith\n",
       "2    Bob Johnson\n",
       "3    Alice White\n",
       "Name: Name, dtype: object"
      ]
     },
     "execution_count": 83,
     "metadata": {},
     "output_type": "execute_result"
    }
   ],
   "source": [
    "df_grades.Name[1:4]"
   ]
  },
  {
   "cell_type": "code",
   "execution_count": 87,
   "id": "fd5b30a4-eb54-4392-abde-2b45d6fa2035",
   "metadata": {},
   "outputs": [
    {
     "data": {
      "text/plain": [
       "'John Doe'"
      ]
     },
     "execution_count": 87,
     "metadata": {},
     "output_type": "execute_result"
    }
   ],
   "source": [
    "first_name = df_grades.loc[0 , \"Name\"] \n",
    "first_name"
   ]
  },
  {
   "cell_type": "code",
   "execution_count": 90,
   "id": "3233d301-c8ad-4ff1-82c6-5f5438ca1878",
   "metadata": {},
   "outputs": [
    {
     "data": {
      "text/html": [
       "<div>\n",
       "<style scoped>\n",
       "    .dataframe tbody tr th:only-of-type {\n",
       "        vertical-align: middle;\n",
       "    }\n",
       "\n",
       "    .dataframe tbody tr th {\n",
       "        vertical-align: top;\n",
       "    }\n",
       "\n",
       "    .dataframe thead th {\n",
       "        text-align: right;\n",
       "    }\n",
       "</style>\n",
       "<table border=\"1\" class=\"dataframe\">\n",
       "  <thead>\n",
       "    <tr style=\"text-align: right;\">\n",
       "      <th></th>\n",
       "      <th>Name</th>\n",
       "      <th>Department</th>\n",
       "      <th>Age</th>\n",
       "    </tr>\n",
       "  </thead>\n",
       "  <tbody>\n",
       "    <tr>\n",
       "      <th>0</th>\n",
       "      <td>John Doe</td>\n",
       "      <td>HR</td>\n",
       "      <td>28</td>\n",
       "    </tr>\n",
       "    <tr>\n",
       "      <th>1</th>\n",
       "      <td>Jane Smith</td>\n",
       "      <td>IT</td>\n",
       "      <td>34</td>\n",
       "    </tr>\n",
       "    <tr>\n",
       "      <th>2</th>\n",
       "      <td>Bob Johnson</td>\n",
       "      <td>Finance</td>\n",
       "      <td>45</td>\n",
       "    </tr>\n",
       "  </tbody>\n",
       "</table>\n",
       "</div>"
      ],
      "text/plain": [
       "          Name Department  Age\n",
       "0     John Doe         HR   28\n",
       "1   Jane Smith         IT   34\n",
       "2  Bob Johnson    Finance   45"
      ]
     },
     "execution_count": 90,
     "metadata": {},
     "output_type": "execute_result"
    }
   ],
   "source": [
    "slic_one = df_grades.loc[0:2 , \"Name\" :\"Age\"] \n",
    "slic_one"
   ]
  },
  {
   "cell_type": "code",
   "execution_count": 92,
   "id": "059af79b-d7ba-433a-9f8a-e1be104f5b28",
   "metadata": {},
   "outputs": [
    {
     "data": {
      "text/plain": [
       "np.float64(68300.0)"
      ]
     },
     "execution_count": 92,
     "metadata": {},
     "output_type": "execute_result"
    }
   ],
   "source": [
    "df_grades.Salary.mean()"
   ]
  },
  {
   "cell_type": "code",
   "execution_count": 94,
   "id": "388d148f-d158-4307-8ab2-f429c5c6b062",
   "metadata": {},
   "outputs": [
    {
     "data": {
      "text/plain": [
       "np.int64(90000)"
      ]
     },
     "execution_count": 94,
     "metadata": {},
     "output_type": "execute_result"
    }
   ],
   "source": [
    "df_grades[\"Salary\"].max()"
   ]
  },
  {
   "cell_type": "code",
   "execution_count": 95,
   "id": "7aa6a27c-a03b-4c9c-9e8a-fb905f9d621d",
   "metadata": {},
   "outputs": [
    {
     "data": {
      "text/html": [
       "<div>\n",
       "<style scoped>\n",
       "    .dataframe tbody tr th:only-of-type {\n",
       "        vertical-align: middle;\n",
       "    }\n",
       "\n",
       "    .dataframe tbody tr th {\n",
       "        vertical-align: top;\n",
       "    }\n",
       "\n",
       "    .dataframe thead th {\n",
       "        text-align: right;\n",
       "    }\n",
       "</style>\n",
       "<table border=\"1\" class=\"dataframe\">\n",
       "  <thead>\n",
       "    <tr style=\"text-align: right;\">\n",
       "      <th></th>\n",
       "      <th>Age</th>\n",
       "      <th>Salary</th>\n",
       "    </tr>\n",
       "  </thead>\n",
       "  <tbody>\n",
       "    <tr>\n",
       "      <th>count</th>\n",
       "      <td>10.000000</td>\n",
       "      <td>10.000000</td>\n",
       "    </tr>\n",
       "    <tr>\n",
       "      <th>mean</th>\n",
       "      <td>35.300000</td>\n",
       "      <td>68300.000000</td>\n",
       "    </tr>\n",
       "    <tr>\n",
       "      <th>std</th>\n",
       "      <td>7.958922</td>\n",
       "      <td>13106.826042</td>\n",
       "    </tr>\n",
       "    <tr>\n",
       "      <th>min</th>\n",
       "      <td>26.000000</td>\n",
       "      <td>50000.000000</td>\n",
       "    </tr>\n",
       "    <tr>\n",
       "      <th>25%</th>\n",
       "      <td>29.250000</td>\n",
       "      <td>57250.000000</td>\n",
       "    </tr>\n",
       "    <tr>\n",
       "      <th>50%</th>\n",
       "      <td>33.000000</td>\n",
       "      <td>69000.000000</td>\n",
       "    </tr>\n",
       "    <tr>\n",
       "      <th>75%</th>\n",
       "      <td>40.250000</td>\n",
       "      <td>74250.000000</td>\n",
       "    </tr>\n",
       "    <tr>\n",
       "      <th>max</th>\n",
       "      <td>50.000000</td>\n",
       "      <td>90000.000000</td>\n",
       "    </tr>\n",
       "  </tbody>\n",
       "</table>\n",
       "</div>"
      ],
      "text/plain": [
       "             Age        Salary\n",
       "count  10.000000     10.000000\n",
       "mean   35.300000  68300.000000\n",
       "std     7.958922  13106.826042\n",
       "min    26.000000  50000.000000\n",
       "25%    29.250000  57250.000000\n",
       "50%    33.000000  69000.000000\n",
       "75%    40.250000  74250.000000\n",
       "max    50.000000  90000.000000"
      ]
     },
     "execution_count": 95,
     "metadata": {},
     "output_type": "execute_result"
    }
   ],
   "source": [
    "df_grad = df_grades.describe()\n",
    "df_grad[[\"Age\" , \"Salary\"]]"
   ]
  },
  {
   "cell_type": "code",
   "execution_count": 98,
   "id": "ff792a94-1f1e-4ce0-8146-39e853294a0e",
   "metadata": {},
   "outputs": [
    {
     "data": {
      "text/html": [
       "<div>\n",
       "<style scoped>\n",
       "    .dataframe tbody tr th:only-of-type {\n",
       "        vertical-align: middle;\n",
       "    }\n",
       "\n",
       "    .dataframe tbody tr th {\n",
       "        vertical-align: top;\n",
       "    }\n",
       "\n",
       "    .dataframe thead th {\n",
       "        text-align: right;\n",
       "    }\n",
       "</style>\n",
       "<table border=\"1\" class=\"dataframe\">\n",
       "  <thead>\n",
       "    <tr style=\"text-align: right;\">\n",
       "      <th></th>\n",
       "      <th>ID</th>\n",
       "      <th>Name</th>\n",
       "      <th>Department</th>\n",
       "      <th>Age</th>\n",
       "      <th>Salary</th>\n",
       "      <th>Joining_Date</th>\n",
       "    </tr>\n",
       "  </thead>\n",
       "  <tbody>\n",
       "    <tr>\n",
       "      <th>0</th>\n",
       "      <td>1</td>\n",
       "      <td>John Doe</td>\n",
       "      <td>HR</td>\n",
       "      <td>28</td>\n",
       "      <td>50000</td>\n",
       "      <td>2020-05-21</td>\n",
       "    </tr>\n",
       "    <tr>\n",
       "      <th>1</th>\n",
       "      <td>2</td>\n",
       "      <td>Jane Smith</td>\n",
       "      <td>IT</td>\n",
       "      <td>34</td>\n",
       "      <td>75000</td>\n",
       "      <td>2019-06-12</td>\n",
       "    </tr>\n",
       "    <tr>\n",
       "      <th>2</th>\n",
       "      <td>3</td>\n",
       "      <td>Bob Johnson</td>\n",
       "      <td>Finance</td>\n",
       "      <td>45</td>\n",
       "      <td>85000</td>\n",
       "      <td>2018-07-15</td>\n",
       "    </tr>\n",
       "    <tr>\n",
       "      <th>3</th>\n",
       "      <td>4</td>\n",
       "      <td>Alice White</td>\n",
       "      <td>IT</td>\n",
       "      <td>29</td>\n",
       "      <td>72000</td>\n",
       "      <td>2021-01-04</td>\n",
       "    </tr>\n",
       "    <tr>\n",
       "      <th>4</th>\n",
       "      <td>5</td>\n",
       "      <td>Charlie Brown</td>\n",
       "      <td>Marketing</td>\n",
       "      <td>32</td>\n",
       "      <td>68000</td>\n",
       "      <td>2019-11-30</td>\n",
       "    </tr>\n",
       "    <tr>\n",
       "      <th>5</th>\n",
       "      <td>6</td>\n",
       "      <td>Eva Green</td>\n",
       "      <td>HR</td>\n",
       "      <td>41</td>\n",
       "      <td>54000</td>\n",
       "      <td>2017-04-22</td>\n",
       "    </tr>\n",
       "    <tr>\n",
       "      <th>6</th>\n",
       "      <td>7</td>\n",
       "      <td>Mike Davis</td>\n",
       "      <td>Finance</td>\n",
       "      <td>50</td>\n",
       "      <td>90000</td>\n",
       "      <td>2016-08-19</td>\n",
       "    </tr>\n",
       "    <tr>\n",
       "      <th>7</th>\n",
       "      <td>8</td>\n",
       "      <td>Linda Taylor</td>\n",
       "      <td>IT</td>\n",
       "      <td>26</td>\n",
       "      <td>64000</td>\n",
       "      <td>2022-02-10</td>\n",
       "    </tr>\n",
       "    <tr>\n",
       "      <th>8</th>\n",
       "      <td>9</td>\n",
       "      <td>James Wilson</td>\n",
       "      <td>Marketing</td>\n",
       "      <td>38</td>\n",
       "      <td>70000</td>\n",
       "      <td>2020-09-08</td>\n",
       "    </tr>\n",
       "    <tr>\n",
       "      <th>9</th>\n",
       "      <td>10</td>\n",
       "      <td>Sarah Adams</td>\n",
       "      <td>HR</td>\n",
       "      <td>30</td>\n",
       "      <td>55000</td>\n",
       "      <td>2021-03-18</td>\n",
       "    </tr>\n",
       "  </tbody>\n",
       "</table>\n",
       "</div>"
      ],
      "text/plain": [
       "   ID           Name Department  Age  Salary Joining_Date\n",
       "0   1       John Doe         HR   28   50000   2020-05-21\n",
       "1   2     Jane Smith         IT   34   75000   2019-06-12\n",
       "2   3    Bob Johnson    Finance   45   85000   2018-07-15\n",
       "3   4    Alice White         IT   29   72000   2021-01-04\n",
       "4   5  Charlie Brown  Marketing   32   68000   2019-11-30\n",
       "5   6      Eva Green         HR   41   54000   2017-04-22\n",
       "6   7     Mike Davis    Finance   50   90000   2016-08-19\n",
       "7   8   Linda Taylor         IT   26   64000   2022-02-10\n",
       "8   9   James Wilson  Marketing   38   70000   2020-09-08\n",
       "9  10    Sarah Adams         HR   30   55000   2021-03-18"
      ]
     },
     "execution_count": 98,
     "metadata": {},
     "output_type": "execute_result"
    }
   ],
   "source": [
    "df_grades"
   ]
  },
  {
   "cell_type": "code",
   "execution_count": 101,
   "id": "7ccb9d48-0787-49e6-b453-2857547f74e5",
   "metadata": {},
   "outputs": [
    {
     "data": {
      "text/plain": [
       "Department\n",
       "HR           3\n",
       "IT           3\n",
       "Finance      2\n",
       "Marketing    2\n",
       "Name: count, dtype: int64"
      ]
     },
     "execution_count": 101,
     "metadata": {},
     "output_type": "execute_result"
    }
   ],
   "source": [
    "mm = df_grades[\"Department\"].value_counts()\n",
    "mm"
   ]
  },
  {
   "cell_type": "code",
   "execution_count": 103,
   "id": "bb7a2dca-3ac8-4a8d-955d-07c034485f26",
   "metadata": {},
   "outputs": [
    {
     "data": {
      "text/plain": [
       "np.int64(3)"
      ]
     },
     "execution_count": 103,
     "metadata": {},
     "output_type": "execute_result"
    }
   ],
   "source": [
    "mm[\"IT\"]"
   ]
  },
  {
   "cell_type": "code",
   "execution_count": 109,
   "id": "b338479d-1897-497b-b16b-61d212bc8b2e",
   "metadata": {},
   "outputs": [
    {
     "data": {
      "text/plain": [
       "array(['HR', 'IT', 'Finance', 'Marketing'], dtype=object)"
      ]
     },
     "execution_count": 109,
     "metadata": {},
     "output_type": "execute_result"
    }
   ],
   "source": [
    " un_value = df_grades[\"Department\"].unique()\n",
    "un_value"
   ]
  },
  {
   "cell_type": "code",
   "execution_count": 106,
   "id": "36177e99-f112-4941-a6d7-0e8d9d0e4367",
   "metadata": {},
   "outputs": [
    {
     "data": {
      "text/plain": [
       "4"
      ]
     },
     "execution_count": 106,
     "metadata": {},
     "output_type": "execute_result"
    }
   ],
   "source": [
    "len(un_value)"
   ]
  },
  {
   "cell_type": "code",
   "execution_count": 112,
   "id": "8f11a5ad-9c68-410f-b7a7-b079d448412d",
   "metadata": {},
   "outputs": [
    {
     "data": {
      "text/plain": [
       "4"
      ]
     },
     "execution_count": 112,
     "metadata": {},
     "output_type": "execute_result"
    }
   ],
   "source": [
    " df_grades[\"Department\"].nunique()"
   ]
  },
  {
   "cell_type": "code",
   "execution_count": 107,
   "id": "f2bc715b-1862-4265-8463-37bbab9c734e",
   "metadata": {},
   "outputs": [
    {
     "data": {
      "text/plain": [
       "'HR'"
      ]
     },
     "execution_count": 107,
     "metadata": {},
     "output_type": "execute_result"
    }
   ],
   "source": [
    "un_value[0]"
   ]
  },
  {
   "cell_type": "code",
   "execution_count": 113,
   "id": "dda83f71-9bae-4fa1-a5b1-3d707643fe24",
   "metadata": {},
   "outputs": [
    {
     "data": {
      "text/plain": [
       "(10, 6)"
      ]
     },
     "execution_count": 113,
     "metadata": {},
     "output_type": "execute_result"
    }
   ],
   "source": [
    "df_grades.shape"
   ]
  },
  {
   "cell_type": "code",
   "execution_count": 115,
   "id": "3d6b0190-fd2e-46e2-b3b1-066db6757426",
   "metadata": {},
   "outputs": [
    {
     "data": {
      "text/plain": [
       "ID               int64\n",
       "Name            object\n",
       "Department      object\n",
       "Age              int64\n",
       "Salary           int64\n",
       "Joining_Date    object\n",
       "dtype: object"
      ]
     },
     "execution_count": 115,
     "metadata": {},
     "output_type": "execute_result"
    }
   ],
   "source": [
    "df_grades.dtypes"
   ]
  },
  {
   "cell_type": "code",
   "execution_count": 119,
   "id": "c3db67cb-9cec-477b-ba5b-3fbf01d928eb",
   "metadata": {},
   "outputs": [
    {
     "data": {
      "text/plain": [
       "np.float64(68300.0)"
      ]
     },
     "execution_count": 119,
     "metadata": {},
     "output_type": "execute_result"
    }
   ],
   "source": [
    "df_grades[\"Salary\"].mean()"
   ]
  },
  {
   "cell_type": "code",
   "execution_count": 120,
   "id": "52e0bf6d-dd1e-4dc6-9b86-3c85961befcc",
   "metadata": {},
   "outputs": [],
   "source": [
    "df_grades[\"new\"] = 1"
   ]
  },
  {
   "cell_type": "code",
   "execution_count": 121,
   "id": "504d9339-5604-4078-a3d9-b302db39a0a7",
   "metadata": {},
   "outputs": [
    {
     "data": {
      "text/html": [
       "<div>\n",
       "<style scoped>\n",
       "    .dataframe tbody tr th:only-of-type {\n",
       "        vertical-align: middle;\n",
       "    }\n",
       "\n",
       "    .dataframe tbody tr th {\n",
       "        vertical-align: top;\n",
       "    }\n",
       "\n",
       "    .dataframe thead th {\n",
       "        text-align: right;\n",
       "    }\n",
       "</style>\n",
       "<table border=\"1\" class=\"dataframe\">\n",
       "  <thead>\n",
       "    <tr style=\"text-align: right;\">\n",
       "      <th></th>\n",
       "      <th>ID</th>\n",
       "      <th>Name</th>\n",
       "      <th>Department</th>\n",
       "      <th>Age</th>\n",
       "      <th>Salary</th>\n",
       "      <th>Joining_Date</th>\n",
       "      <th>new</th>\n",
       "    </tr>\n",
       "  </thead>\n",
       "  <tbody>\n",
       "    <tr>\n",
       "      <th>0</th>\n",
       "      <td>1</td>\n",
       "      <td>John Doe</td>\n",
       "      <td>HR</td>\n",
       "      <td>28</td>\n",
       "      <td>50000</td>\n",
       "      <td>2020-05-21</td>\n",
       "      <td>1</td>\n",
       "    </tr>\n",
       "    <tr>\n",
       "      <th>1</th>\n",
       "      <td>2</td>\n",
       "      <td>Jane Smith</td>\n",
       "      <td>IT</td>\n",
       "      <td>34</td>\n",
       "      <td>75000</td>\n",
       "      <td>2019-06-12</td>\n",
       "      <td>1</td>\n",
       "    </tr>\n",
       "    <tr>\n",
       "      <th>2</th>\n",
       "      <td>3</td>\n",
       "      <td>Bob Johnson</td>\n",
       "      <td>Finance</td>\n",
       "      <td>45</td>\n",
       "      <td>85000</td>\n",
       "      <td>2018-07-15</td>\n",
       "      <td>1</td>\n",
       "    </tr>\n",
       "    <tr>\n",
       "      <th>3</th>\n",
       "      <td>4</td>\n",
       "      <td>Alice White</td>\n",
       "      <td>IT</td>\n",
       "      <td>29</td>\n",
       "      <td>72000</td>\n",
       "      <td>2021-01-04</td>\n",
       "      <td>1</td>\n",
       "    </tr>\n",
       "    <tr>\n",
       "      <th>4</th>\n",
       "      <td>5</td>\n",
       "      <td>Charlie Brown</td>\n",
       "      <td>Marketing</td>\n",
       "      <td>32</td>\n",
       "      <td>68000</td>\n",
       "      <td>2019-11-30</td>\n",
       "      <td>1</td>\n",
       "    </tr>\n",
       "    <tr>\n",
       "      <th>5</th>\n",
       "      <td>6</td>\n",
       "      <td>Eva Green</td>\n",
       "      <td>HR</td>\n",
       "      <td>41</td>\n",
       "      <td>54000</td>\n",
       "      <td>2017-04-22</td>\n",
       "      <td>1</td>\n",
       "    </tr>\n",
       "    <tr>\n",
       "      <th>6</th>\n",
       "      <td>7</td>\n",
       "      <td>Mike Davis</td>\n",
       "      <td>Finance</td>\n",
       "      <td>50</td>\n",
       "      <td>90000</td>\n",
       "      <td>2016-08-19</td>\n",
       "      <td>1</td>\n",
       "    </tr>\n",
       "    <tr>\n",
       "      <th>7</th>\n",
       "      <td>8</td>\n",
       "      <td>Linda Taylor</td>\n",
       "      <td>IT</td>\n",
       "      <td>26</td>\n",
       "      <td>64000</td>\n",
       "      <td>2022-02-10</td>\n",
       "      <td>1</td>\n",
       "    </tr>\n",
       "    <tr>\n",
       "      <th>8</th>\n",
       "      <td>9</td>\n",
       "      <td>James Wilson</td>\n",
       "      <td>Marketing</td>\n",
       "      <td>38</td>\n",
       "      <td>70000</td>\n",
       "      <td>2020-09-08</td>\n",
       "      <td>1</td>\n",
       "    </tr>\n",
       "    <tr>\n",
       "      <th>9</th>\n",
       "      <td>10</td>\n",
       "      <td>Sarah Adams</td>\n",
       "      <td>HR</td>\n",
       "      <td>30</td>\n",
       "      <td>55000</td>\n",
       "      <td>2021-03-18</td>\n",
       "      <td>1</td>\n",
       "    </tr>\n",
       "  </tbody>\n",
       "</table>\n",
       "</div>"
      ],
      "text/plain": [
       "   ID           Name Department  Age  Salary Joining_Date  new\n",
       "0   1       John Doe         HR   28   50000   2020-05-21    1\n",
       "1   2     Jane Smith         IT   34   75000   2019-06-12    1\n",
       "2   3    Bob Johnson    Finance   45   85000   2018-07-15    1\n",
       "3   4    Alice White         IT   29   72000   2021-01-04    1\n",
       "4   5  Charlie Brown  Marketing   32   68000   2019-11-30    1\n",
       "5   6      Eva Green         HR   41   54000   2017-04-22    1\n",
       "6   7     Mike Davis    Finance   50   90000   2016-08-19    1\n",
       "7   8   Linda Taylor         IT   26   64000   2022-02-10    1\n",
       "8   9   James Wilson  Marketing   38   70000   2020-09-08    1\n",
       "9  10    Sarah Adams         HR   30   55000   2021-03-18    1"
      ]
     },
     "execution_count": 121,
     "metadata": {},
     "output_type": "execute_result"
    }
   ],
   "source": [
    "df_grades"
   ]
  },
  {
   "cell_type": "code",
   "execution_count": 128,
   "id": "d8ab43f1-f5a5-47e6-a056-e4eb3a1a5a3a",
   "metadata": {},
   "outputs": [
    {
     "data": {
      "text/html": [
       "<div>\n",
       "<style scoped>\n",
       "    .dataframe tbody tr th:only-of-type {\n",
       "        vertical-align: middle;\n",
       "    }\n",
       "\n",
       "    .dataframe tbody tr th {\n",
       "        vertical-align: top;\n",
       "    }\n",
       "\n",
       "    .dataframe thead th {\n",
       "        text-align: right;\n",
       "    }\n",
       "</style>\n",
       "<table border=\"1\" class=\"dataframe\">\n",
       "  <thead>\n",
       "    <tr style=\"text-align: right;\">\n",
       "      <th></th>\n",
       "      <th>ID</th>\n",
       "      <th>Name</th>\n",
       "      <th>Department</th>\n",
       "      <th>Age</th>\n",
       "      <th>Salary</th>\n",
       "      <th>Joining_Date</th>\n",
       "      <th>new</th>\n",
       "      <th>Final_percentage</th>\n",
       "    </tr>\n",
       "  </thead>\n",
       "  <tbody>\n",
       "    <tr>\n",
       "      <th>0</th>\n",
       "      <td>1</td>\n",
       "      <td>John Doe</td>\n",
       "      <td>HR</td>\n",
       "      <td>28</td>\n",
       "      <td>50000</td>\n",
       "      <td>2020-05-21</td>\n",
       "      <td>1</td>\n",
       "      <td>1388.888889</td>\n",
       "    </tr>\n",
       "    <tr>\n",
       "      <th>1</th>\n",
       "      <td>2</td>\n",
       "      <td>Jane Smith</td>\n",
       "      <td>IT</td>\n",
       "      <td>34</td>\n",
       "      <td>75000</td>\n",
       "      <td>2019-06-12</td>\n",
       "      <td>1</td>\n",
       "      <td>2083.333333</td>\n",
       "    </tr>\n",
       "    <tr>\n",
       "      <th>2</th>\n",
       "      <td>3</td>\n",
       "      <td>Bob Johnson</td>\n",
       "      <td>Finance</td>\n",
       "      <td>45</td>\n",
       "      <td>85000</td>\n",
       "      <td>2018-07-15</td>\n",
       "      <td>1</td>\n",
       "      <td>2361.111111</td>\n",
       "    </tr>\n",
       "    <tr>\n",
       "      <th>3</th>\n",
       "      <td>4</td>\n",
       "      <td>Alice White</td>\n",
       "      <td>IT</td>\n",
       "      <td>29</td>\n",
       "      <td>72000</td>\n",
       "      <td>2021-01-04</td>\n",
       "      <td>1</td>\n",
       "      <td>2000.000000</td>\n",
       "    </tr>\n",
       "    <tr>\n",
       "      <th>4</th>\n",
       "      <td>5</td>\n",
       "      <td>Charlie Brown</td>\n",
       "      <td>Marketing</td>\n",
       "      <td>32</td>\n",
       "      <td>68000</td>\n",
       "      <td>2019-11-30</td>\n",
       "      <td>1</td>\n",
       "      <td>1888.888889</td>\n",
       "    </tr>\n",
       "  </tbody>\n",
       "</table>\n",
       "</div>"
      ],
      "text/plain": [
       "   ID           Name Department  Age  Salary Joining_Date  new  \\\n",
       "0   1       John Doe         HR   28   50000   2020-05-21    1   \n",
       "1   2     Jane Smith         IT   34   75000   2019-06-12    1   \n",
       "2   3    Bob Johnson    Finance   45   85000   2018-07-15    1   \n",
       "3   4    Alice White         IT   29   72000   2021-01-04    1   \n",
       "4   5  Charlie Brown  Marketing   32   68000   2019-11-30    1   \n",
       "\n",
       "   Final_percentage  \n",
       "0       1388.888889  \n",
       "1       2083.333333  \n",
       "2       2361.111111  \n",
       "3       2000.000000  \n",
       "4       1888.888889  "
      ]
     },
     "execution_count": 128,
     "metadata": {},
     "output_type": "execute_result"
    }
   ],
   "source": [
    "df_grades[\"Final_percentage\"] = df_grades[\"Salary\"] / 36\n",
    "df_grades.head()\n"
   ]
  },
  {
   "cell_type": "code",
   "execution_count": 131,
   "id": "1a815b56-1dcb-4e81-abe4-26240f329cc2",
   "metadata": {},
   "outputs": [
    {
     "data": {
      "text/html": [
       "<div>\n",
       "<style scoped>\n",
       "    .dataframe tbody tr th:only-of-type {\n",
       "        vertical-align: middle;\n",
       "    }\n",
       "\n",
       "    .dataframe tbody tr th {\n",
       "        vertical-align: top;\n",
       "    }\n",
       "\n",
       "    .dataframe thead th {\n",
       "        text-align: right;\n",
       "    }\n",
       "</style>\n",
       "<table border=\"1\" class=\"dataframe\">\n",
       "  <thead>\n",
       "    <tr style=\"text-align: right;\">\n",
       "      <th></th>\n",
       "      <th>ID</th>\n",
       "      <th>Name</th>\n",
       "      <th>Department</th>\n",
       "      <th>Age</th>\n",
       "      <th>Salary</th>\n",
       "      <th>Joining_Date</th>\n",
       "      <th>new</th>\n",
       "    </tr>\n",
       "  </thead>\n",
       "  <tbody>\n",
       "    <tr>\n",
       "      <th>0</th>\n",
       "      <td>1</td>\n",
       "      <td>John Doe</td>\n",
       "      <td>HR</td>\n",
       "      <td>28</td>\n",
       "      <td>50000</td>\n",
       "      <td>2020-05-21</td>\n",
       "      <td>1</td>\n",
       "    </tr>\n",
       "    <tr>\n",
       "      <th>1</th>\n",
       "      <td>2</td>\n",
       "      <td>Jane Smith</td>\n",
       "      <td>IT</td>\n",
       "      <td>34</td>\n",
       "      <td>75000</td>\n",
       "      <td>2019-06-12</td>\n",
       "      <td>1</td>\n",
       "    </tr>\n",
       "    <tr>\n",
       "      <th>2</th>\n",
       "      <td>3</td>\n",
       "      <td>Bob Johnson</td>\n",
       "      <td>Finance</td>\n",
       "      <td>45</td>\n",
       "      <td>85000</td>\n",
       "      <td>2018-07-15</td>\n",
       "      <td>1</td>\n",
       "    </tr>\n",
       "    <tr>\n",
       "      <th>3</th>\n",
       "      <td>4</td>\n",
       "      <td>Alice White</td>\n",
       "      <td>IT</td>\n",
       "      <td>29</td>\n",
       "      <td>72000</td>\n",
       "      <td>2021-01-04</td>\n",
       "      <td>1</td>\n",
       "    </tr>\n",
       "    <tr>\n",
       "      <th>4</th>\n",
       "      <td>5</td>\n",
       "      <td>Charlie Brown</td>\n",
       "      <td>Marketing</td>\n",
       "      <td>32</td>\n",
       "      <td>68000</td>\n",
       "      <td>2019-11-30</td>\n",
       "      <td>1</td>\n",
       "    </tr>\n",
       "  </tbody>\n",
       "</table>\n",
       "</div>"
      ],
      "text/plain": [
       "   ID           Name Department  Age  Salary Joining_Date  new\n",
       "0   1       John Doe         HR   28   50000   2020-05-21    1\n",
       "1   2     Jane Smith         IT   34   75000   2019-06-12    1\n",
       "2   3    Bob Johnson    Finance   45   85000   2018-07-15    1\n",
       "3   4    Alice White         IT   29   72000   2021-01-04    1\n",
       "4   5  Charlie Brown  Marketing   32   68000   2019-11-30    1"
      ]
     },
     "execution_count": 131,
     "metadata": {},
     "output_type": "execute_result"
    }
   ],
   "source": [
    "del df_grades[\"Final_percentage\"]\n",
    "df_grades.head()\n"
   ]
  },
  {
   "cell_type": "code",
   "execution_count": null,
   "id": "f69e5743-ad89-4d1d-9ff0-dfdda835456b",
   "metadata": {},
   "outputs": [],
   "source": []
  }
 ],
 "metadata": {
  "kernelspec": {
   "display_name": "Python 3 (ipykernel)",
   "language": "python",
   "name": "python3"
  },
  "language_info": {
   "codemirror_mode": {
    "name": "ipython",
    "version": 3
   },
   "file_extension": ".py",
   "mimetype": "text/x-python",
   "name": "python",
   "nbconvert_exporter": "python",
   "pygments_lexer": "ipython3",
   "version": "3.12.8"
  }
 },
 "nbformat": 4,
 "nbformat_minor": 5
}
